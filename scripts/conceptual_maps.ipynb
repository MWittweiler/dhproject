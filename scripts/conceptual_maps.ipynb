{
 "cells": [
  {
   "cell_type": "code",
   "execution_count": null,
   "id": "152a67da",
   "metadata": {},
   "outputs": [],
   "source": [
    "# This script filters all words that do not belong to the POS (noun, verb, adjective) in Latin texts using LatinCy\n",
    "# Cleanup step for conceptual maps\n",
    "\n",
    "import spacy\n",
    "\n",
    "# Load Latin spaCy model\n",
    "spacy_model = \"la_core_web_lg\"\n",
    "nlp = spacy.load(spacy_model)\n",
    "\n",
    "file_path = \"../texts/punica.txt\"\n",
    "\n",
    "# Assume the text file has tab-separated columns, and you want only the right column\n",
    "lines = []\n",
    "with open(file_path, 'r', encoding='utf-8') as f:\n",
    "    for line in f:\n",
    "        parts = line.strip().split('\\t')\n",
    "        if len(parts) > 1:\n",
    "            lines.append(parts[1])\n",
    "\n",
    "text = \" \".join(lines)\n",
    "\n",
    "# Tokenize\n",
    "doc = nlp(text)\n",
    "\n",
    "# Filter and lemmatize\n",
    "filtered_lemmas = []\n",
    "for token in doc:\n",
    "    if token.pos_ in [\"NOUN\", \"PROPN\", \"VERB\", \"ADJ\"] and not token.is_punct and not token.is_space:\n",
    "        filtered_lemmas.append(token.lemma_)\n",
    "\n",
    "# Write the new filtered text file\n",
    "with open(\"../texts/punica_no_stop.txt\", \"w\", encoding='utf-8') as file:\n",
    "    file.write(\" \".join(filtered_lemmas))\n"
   ]
  },
  {
   "cell_type": "code",
   "execution_count": null,
   "id": "da02553e",
   "metadata": {},
   "outputs": [
    {
     "name": "stdout",
     "output_type": "stream",
     "text": [
      "\n",
      "Tokenizing text...\n",
      "Extracted 57005 tokens\n",
      "\n",
      "Indexing terms:\n",
      "\n",
      "Generating graph:\n",
      "Graph saved to ../plots/punica/punica_cmap.gml\n"
     ]
    }
   ],
   "source": [
    "# This script builds a conceptual map using textplot\n",
    "\n",
    "from textplot.helpers import build_graph\n",
    "\n",
    "# Input and output paths\n",
    "input_path = '../texts/punica_no_stop.txt'\n",
    "output_path = '../plots/punica/punica_cmap.gml'\n",
    "\n",
    "# Build graph using textplot's internal function\n",
    "g = build_graph(input_path, term_depth=200)\n",
    "\n",
    "# Write to GML\n",
    "g.write_gml(output_path)\n",
    "\n",
    "print(f\"Graph saved to {output_path}\")\n"
   ]
  }
 ],
 "metadata": {
  "kernelspec": {
   "display_name": "latin",
   "language": "python",
   "name": "python3"
  },
  "language_info": {
   "codemirror_mode": {
    "name": "ipython",
    "version": 3
   },
   "file_extension": ".py",
   "mimetype": "text/x-python",
   "name": "python",
   "nbconvert_exporter": "python",
   "pygments_lexer": "ipython3",
   "version": "3.10.10"
  }
 },
 "nbformat": 4,
 "nbformat_minor": 5
}
