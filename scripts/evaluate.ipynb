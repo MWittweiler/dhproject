{
 "cells": [
  {
   "cell_type": "code",
   "execution_count": null,
   "id": "5aba6025",
   "metadata": {},
   "outputs": [
    {
     "name": "stdout",
     "output_type": "stream",
     "text": [
      "              precision    recall  f1-score   support\n",
      "\n",
      "  admiration       0.73      0.85      0.79        13\n",
      "   agitation       0.67      0.89      0.76        18\n",
      "       anger       1.00      0.62      0.77         8\n",
      "     disgust       0.50      0.25      0.33         4\n",
      "        fear       0.87      0.72      0.79        18\n",
      "         joy       0.80      0.50      0.62         8\n",
      "        love       0.33      1.00      0.50         1\n",
      "     neutral       0.50      0.25      0.33         4\n",
      "     sadness       0.81      1.00      0.89        17\n",
      "       shame       0.50      1.00      0.67         1\n",
      "\n",
      "   micro avg       0.74      0.76      0.75        92\n",
      "   macro avg       0.67      0.71      0.64        92\n",
      "weighted avg       0.76      0.76      0.74        92\n",
      " samples avg       0.75      0.76      0.73        92\n",
      "\n"
     ]
    }
   ],
   "source": [
    "import ast\n",
    "from sklearn.metrics import classification_report, precision_recall_fscore_support\n",
    "from sklearn.preprocessing import MultiLabelBinarizer\n",
    "\n",
    "def load_data():\n",
    "    data = []\n",
    "    with open(\"../analysis/eval_gold_and_pred.txt\", \"r\", encoding=\"utf-8\") as file:\n",
    "        for line in file:\n",
    "            data.append(line.strip().split(\"\\t\"))\n",
    "    return data\n",
    "\n",
    "import ast\n",
    "\n",
    "def parse_label(label):\n",
    "    label = label.strip()\n",
    "    if not label or label == '\"\"':\n",
    "        return []  # Empty label, no emotions assigned\n",
    "\n",
    "    label = label.replace('\"\"', '\"')  # Fix double quotes\n",
    "\n",
    "    if label.startswith('\"') and label.endswith('\"'):\n",
    "        label = label[1:-1]  # Remove outermost quotes\n",
    "\n",
    "    parsed = ast.literal_eval(label)\n",
    "\n",
    "    if isinstance(parsed, str):\n",
    "        return [parsed]\n",
    "    elif isinstance(parsed, (tuple, list)):\n",
    "        return list(parsed)\n",
    "    else:\n",
    "        raise ValueError(f\"Unexpected label format: {parsed}\")\n",
    "\n",
    "data = load_data()\n",
    "gold_labels = []\n",
    "predictions = []\n",
    "\n",
    "for line in data[1:]:\n",
    "    gold_labels.append(line[2])\n",
    "    predictions.append(line[3])\n",
    "\n",
    "gold_labels = [parse_label(label) for label in gold_labels]\n",
    "predictions = [parse_label(label) for label in predictions]\n",
    "\n",
    "mlb = MultiLabelBinarizer()\n",
    "mlb.fit(gold_labels + predictions)\n",
    "\n",
    "gold_binarized = mlb.transform(gold_labels)\n",
    "pred_binarized = mlb.transform(predictions)\n",
    "\n",
    "report = classification_report(gold_binarized, pred_binarized, target_names=mlb.classes_)\n",
    "print(report)\n"
   ]
  }
 ],
 "metadata": {
  "kernelspec": {
   "display_name": "Python 3",
   "language": "python",
   "name": "python3"
  },
  "language_info": {
   "codemirror_mode": {
    "name": "ipython",
    "version": 3
   },
   "file_extension": ".py",
   "mimetype": "text/x-python",
   "name": "python",
   "nbconvert_exporter": "python",
   "pygments_lexer": "ipython3",
   "version": "3.12.3"
  }
 },
 "nbformat": 4,
 "nbformat_minor": 5
}
